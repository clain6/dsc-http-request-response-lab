{
 "cells": [
  {
   "cell_type": "markdown",
   "metadata": {},
   "source": [
    "# HTTP Request/Response Cycle - Lab\n",
    "\n",
    "## Introduction \n",
    "\n",
    "In this lab, we'll make use of the `requests` module commands and properties seen in the previous lesson, to extract information for a web service called **\"Open Notify\"** to access NASA's space data. \n",
    "\n",
    "## Objectives\n",
    "\n",
    "You will be able to:\n",
    "\n",
    "* Explain the HTTP request/response cycle\n",
    "* List the status codes of responses and their meanings\n",
    "* Obtain and interpret status codes from responses\n",
    "* Make HTTP GET and POST requests in python using the `requests` library\n",
    "\n",
    "## Open Notify \n",
    "\n",
    "[Open Notify](http://open-notify.org/)  is an an open source project to provide a simple programming interface for some of NASA’s awesome data. This takes live raw data from NASA's systems and turn them into APIs related to space and spacecraft. We can access the following information from open notify. \n",
    "\n",
    "* Current Location of the International Space Station\n",
    "\n",
    "* Number of People in Space\n",
    "\n",
    "* Overhead Pass Predictions for the International Space Station\n",
    "    \n",
    "### API endpoints\n",
    "\n",
    "Open Notify has several API endpoints. \n",
    ">An endpoint is a server route that is used to retrieve different data from the API. \n",
    "\n",
    "For example, the `/comments` endpoint on the Reddit API might retrieve information about comments, whereas the `/users` endpoint might retrieve data about users. To access them, you would add the endpoint to the base url of the API.\n",
    "\n",
    "For the OpenNotify API, we have the following endpoints: \n",
    "\n",
    "1. Current Location of the International Space Station `/iss-now.json`\n",
    "2. Number of People in Space `/astros.json`\n",
    "3. Overhead Pass Predictions for the International Space Station `/iss-pass.json`    \n",
    "\n",
    "The `.json` extension simply tells us that the data is being returned in a JSON format.\n",
    "\n",
    "In this lab, we'll be querying this API to retrieve live data about the International Space Station (ISS). Details on OpenNofity, endpoints, syntax, and the services it offers can be viewed [Here](http://open-notify.org/Open-Notify-API/)\n",
    "\n",
    "![](images/iss.jpg)\n",
    "\n",
    "### Current location of International Space Station\n",
    "\n",
    "The first endpoint we'll look at on Open Notify is the ` iss-now.json` endpoint (current location of international space station). This endpoint gets the current latitude and longitude of the International Space Station.  Perform the following tasks \n",
    "* Make a get request to get the latest position of the international space station from the opennotify api's `iss-now` endpoint at http://api.open-notify.org/iss-now.json\n",
    "* Check the status code of the response\n",
    "* Interpret the returned code"
   ]
  },
  {
   "cell_type": "code",
   "execution_count": 26,
   "metadata": {},
   "outputs": [
    {
     "data": {
      "text/plain": [
       "True"
      ]
     },
     "execution_count": 26,
     "metadata": {},
     "output_type": "execute_result"
    }
   ],
   "source": [
    "# Your Code Here\n",
    "import requests\n",
    "resp = requests.get('http://api.open-notify.org/iss-now.json')\n",
    "resp.status_code == requests.codes.ok"
   ]
  },
  {
   "cell_type": "code",
   "execution_count": 27,
   "metadata": {},
   "outputs": [
    {
     "data": {
      "text/plain": [
       "'The get request is successful and has returned an ok status code.'"
      ]
     },
     "execution_count": 27,
     "metadata": {},
     "output_type": "execute_result"
    }
   ],
   "source": [
    "# Your comments \n",
    "\"\"\"The get request is successful and has returned an ok status code.\"\"\""
   ]
  },
  {
   "cell_type": "markdown",
   "metadata": {},
   "source": [
    "* Print the contents of the response and identify its current location"
   ]
  },
  {
   "cell_type": "code",
   "execution_count": 28,
   "metadata": {},
   "outputs": [
    {
     "name": "stdout",
     "output_type": "stream",
     "text": [
      "{\"timestamp\": 1652279473, \"message\": \"success\", \"iss_position\": {\"latitude\": \"-51.5092\", \"longitude\": \"-24.5846\"}}\n"
     ]
    }
   ],
   "source": [
    "# Your Code Here\n",
    "print(resp.text)"
   ]
  },
  {
   "cell_type": "code",
   "execution_count": 29,
   "metadata": {},
   "outputs": [
    {
     "data": {
      "text/plain": [
       "'The get request was a success and the current position of the international space station is returned, \\nlatitude = 30.9937 and longitude = 137.3691'"
      ]
     },
     "execution_count": 29,
     "metadata": {},
     "output_type": "execute_result"
    }
   ],
   "source": [
    "# Interpret your results using the API\n",
    "\"\"\"The get request was a success and the current position of the international space station is returned, \n",
    "latitude = 30.9937 and longitude = 137.3691\"\"\""
   ]
  },
  {
   "cell_type": "markdown",
   "metadata": {},
   "source": [
    "### Number of people in space\n",
    "\n",
    "Let's repeat the above for the second endpoint, `astros.json`. It tells you how many people are currently in space. The format of the responses can be studied [HERE](http://open-notify.org/Open-Notify-API/People-In-Space/).\n",
    "\n",
    "Read the above documentation and perform the following tasks:\n",
    "\n",
    "* Get the response from astros.json endpoint\n",
    "* Count how many people are currently in space\n",
    "* List the names of people currently in space."
   ]
  },
  {
   "cell_type": "code",
   "execution_count": 30,
   "metadata": {},
   "outputs": [
    {
     "name": "stdout",
     "output_type": "stream",
     "text": [
      "200\n",
      "{\"message\": \"success\", \"number\": 11, \"people\": [{\"name\": \"Raja Chari\", \"craft\": \"ISS\"}, {\"name\": \"Tom Marshburn\", \"craft\": \"ISS\"}, {\"name\": \"Kayla Barron\", \"craft\": \"ISS\"}, {\"name\": \"Matthias Maurer\", \"craft\": \"ISS\"}, {\"name\": \"Oleg Artemyev\", \"craft\": \"ISS\"}, {\"name\": \"Denis Matveev\", \"craft\": \"ISS\"}, {\"name\": \"Sergey Korsakov\", \"craft\": \"ISS\"}, {\"name\": \"Kjell Lindgren\", \"craft\": \"ISS\"}, {\"name\": \"Bob Hines\", \"craft\": \"ISS\"}, {\"name\": \"Samantha Cristoforetti\", \"craft\": \"ISS\"}, {\"name\": \"Jessica Watkins\", \"craft\": \"ISS\"}]}\n"
     ]
    }
   ],
   "source": [
    "# Your Code Here\n",
    "resp2 = requests.get('http://api.open-notify.org/astros.json')\n",
    "print(resp2.status_code)\n",
    "print(resp2.text)"
   ]
  },
  {
   "cell_type": "code",
   "execution_count": 31,
   "metadata": {
    "scrolled": true
   },
   "outputs": [
    {
     "name": "stdout",
     "output_type": "stream",
     "text": [
      "11\n",
      "{'message': 'success', 'number': 11, 'people': [{'name': 'Raja Chari', 'craft': 'ISS'}, {'name': 'Tom Marshburn', 'craft': 'ISS'}, {'name': 'Kayla Barron', 'craft': 'ISS'}, {'name': 'Matthias Maurer', 'craft': 'ISS'}, {'name': 'Oleg Artemyev', 'craft': 'ISS'}, {'name': 'Denis Matveev', 'craft': 'ISS'}, {'name': 'Sergey Korsakov', 'craft': 'ISS'}, {'name': 'Kjell Lindgren', 'craft': 'ISS'}, {'name': 'Bob Hines', 'craft': 'ISS'}, {'name': 'Samantha Cristoforetti', 'craft': 'ISS'}, {'name': 'Jessica Watkins', 'craft': 'ISS'}]}\n"
     ]
    }
   ],
   "source": [
    "output = resp2.json()\n",
    "print(output['number'])\n",
    "print(dict(output))"
   ]
  },
  {
   "cell_type": "code",
   "execution_count": 32,
   "metadata": {},
   "outputs": [
    {
     "name": "stdout",
     "output_type": "stream",
     "text": [
      "Raja Chari\n",
      "Tom Marshburn\n",
      "Kayla Barron\n",
      "Matthias Maurer\n",
      "Oleg Artemyev\n",
      "Denis Matveev\n",
      "Sergey Korsakov\n",
      "Kjell Lindgren\n",
      "Bob Hines\n",
      "Samantha Cristoforetti\n",
      "Jessica Watkins\n"
     ]
    }
   ],
   "source": [
    "a = dict(output)\n",
    "for ind in range(len(a['people'])):\n",
    "    print(a['people'][ind]['name'])"
   ]
  },
  {
   "cell_type": "code",
   "execution_count": 33,
   "metadata": {},
   "outputs": [
    {
     "data": {
      "text/plain": [
       "'There are 11 people in space at the moment. Their names are displayed above'"
      ]
     },
     "execution_count": 33,
     "metadata": {},
     "output_type": "execute_result"
    }
   ],
   "source": [
    "# Interpret the Results - How many people are in space and what are their names \n",
    "\"\"\"There are 11 people in space at the moment. Their names are displayed above\"\"\""
   ]
  },
  {
   "cell_type": "markdown",
   "metadata": {},
   "source": [
    "## Level Up (Optional) - Investigating other API endpoints\n",
    "\n",
    "### Next pass of International space station for a given location\n",
    "\n",
    "Let's repeat the exercise for another endpoint `iss-pass.json`. This endpoint is used to query the next pass of the space station on a given location."
   ]
  },
  {
   "cell_type": "code",
   "execution_count": 37,
   "metadata": {},
   "outputs": [
    {
     "name": "stdout",
     "output_type": "stream",
     "text": [
      "400\n",
      "False\n"
     ]
    }
   ],
   "source": [
    "# Your Code Here\n",
    "resp3 = requests.get('http://api.open-notify.org/iss-pass.json')\n",
    "print(resp3.status_code)\n",
    "print(resp3.status_code == requests.codes.ok)"
   ]
  },
  {
   "cell_type": "code",
   "execution_count": 38,
   "metadata": {},
   "outputs": [
    {
     "data": {
      "text/plain": [
       "'The request is not successful and returns a status code of 400 meaning bad request'"
      ]
     },
     "execution_count": 38,
     "metadata": {},
     "output_type": "execute_result"
    }
   ],
   "source": [
    "# Your comments \n",
    "\"\"\"The request is not successful and returns a status code of 400 meaning bad request\"\"\""
   ]
  },
  {
   "cell_type": "markdown",
   "metadata": {},
   "source": [
    "The status code for the end point returned is 400, which indicates a client error. To see more detailed information, we can use `response.text` instead of `response.status_code`. "
   ]
  },
  {
   "cell_type": "code",
   "execution_count": 39,
   "metadata": {},
   "outputs": [
    {
     "data": {
      "text/plain": [
       "'{\\n  \"message\": \"failure\", \\n  \"reason\": \"Latitude must be specified\"\\n}\\n'"
      ]
     },
     "execution_count": 39,
     "metadata": {},
     "output_type": "execute_result"
    }
   ],
   "source": [
    "# Your Code Here\n",
    "resp3.text"
   ]
  },
  {
   "cell_type": "markdown",
   "metadata": {},
   "source": [
    "This endpoint is not visible from the documentation, but we can navigate to the source code of Open Notify and see if we can gain more information on how to use this endpoint.\n",
    "\n",
    "Click on the `Source Code` Tab, and navigate to the Open Notify GitHub repository.\n",
    "\n",
    "https://github.com/open-notify/Open-Notify-API\n",
    "\n",
    "If we look at the API spec this endpoint, we see that the ISS Pass endpoint requires two parameters.\n",
    "\n",
    "https://github.com/open-notify/Open-Notify-API/blob/master/app.py#L103\n",
    "\n",
    ">  The API returns a list of upcoming ISS passes for a particular location formatted as JSON. As input it expects a latitude/longitude pair, altitude and how many results to return. All fields are required.\n",
    "\n",
    "We can do this by adding an optional keyword argument, `params`, to our request. In this case, there are two parameters we need to pass:\n",
    "\n",
    "* `lat` -- The latitude of the location we want.\n",
    "* `lon` -- The longitude of the location we want.\n",
    "\n",
    "Perform the following tasks :\n",
    "* Set parameters to reflect the lat and long of New York  (40.71, -74)\n",
    "* Send a get request to Open Notify passing in the lat long parameters as k:v pairs in a dictionary\n",
    "* Check the status code and interpret\n",
    "* Print the header information and the returned content"
   ]
  },
  {
   "cell_type": "code",
   "execution_count": 46,
   "metadata": {},
   "outputs": [
    {
     "name": "stdout",
     "output_type": "stream",
     "text": [
      "200\n",
      "{\n",
      "  \"message\": \"success\", \n",
      "  \"request\": {\n",
      "    \"altitude\": 100, \n",
      "    \"datetime\": 1652278299, \n",
      "    \"latitude\": 40.71, \n",
      "    \"longitude\": -74.0, \n",
      "    \"passes\": 5\n",
      "  }, \n",
      "  \"response\": [\n",
      "    {\n",
      "      \"duration\": 616, \n",
      "      \"risetime\": 1652320356\n",
      "    }, \n",
      "    {\n",
      "      \"duration\": 635, \n",
      "      \"risetime\": 1652326147\n",
      "    }, \n",
      "    {\n",
      "      \"duration\": 565, \n",
      "      \"risetime\": 1652332030\n",
      "    }, \n",
      "    {\n",
      "      \"duration\": 572, \n",
      "      \"risetime\": 1652337894\n",
      "    }, \n",
      "    {\n",
      "      \"duration\": 642, \n",
      "      \"risetime\": 1652343702\n",
      "    }\n",
      "  ]\n",
      "}\n",
      "\n",
      "{'Server': 'nginx/1.10.3', 'Date': 'Wed, 11 May 2022 14:49:53 GMT', 'Content-Type': 'application/json', 'Content-Length': '519', 'Connection': 'keep-alive', 'Via': '1.1 vegur'}\n"
     ]
    }
   ],
   "source": [
    "# Your Code Here\n",
    "resp3 = requests.get('http://api.open-notify.org/iss-pass.json',params = ({'lat' : 40.71, 'lon' : -74}) )\n",
    "print(resp3.status_code)\n",
    "print(resp3.text)\n",
    "print(dict(resp3.headers))"
   ]
  },
  {
   "cell_type": "code",
   "execution_count": 43,
   "metadata": {},
   "outputs": [
    {
     "name": "stdout",
     "output_type": "stream",
     "text": [
      "{\n",
      "  \"message\": \"failure\", \n",
      "  \"reason\": \"Latitude must be specified\"\n",
      "}\n",
      "\n"
     ]
    }
   ],
   "source": [
    "# Check the API and interpret your results - when will ISS pass over NEW York next ?\n",
    "\"\"\"\"\"\""
   ]
  },
  {
   "cell_type": "markdown",
   "metadata": {},
   "source": [
    "## Summary \n",
    "\n",
    "In this lesson, we saw how we can use request and response methods to query an Open API. We also saw how to look at the contents returned with the API calls and how to parse them. Next, we'll look at connecting to APIs which are not OPEN, i.e. we would need to pass in some authentication information and filter the results. "
   ]
  }
 ],
 "metadata": {
  "kernelspec": {
   "display_name": "Python (learn-env)",
   "language": "python",
   "name": "learn-env"
  },
  "language_info": {
   "codemirror_mode": {
    "name": "ipython",
    "version": 3
   },
   "file_extension": ".py",
   "mimetype": "text/x-python",
   "name": "python",
   "nbconvert_exporter": "python",
   "pygments_lexer": "ipython3",
   "version": "3.8.5"
  },
  "toc": {
   "base_numbering": 1,
   "nav_menu": {},
   "number_sections": true,
   "sideBar": true,
   "skip_h1_title": false,
   "title_cell": "Table of Contents",
   "title_sidebar": "Contents",
   "toc_cell": false,
   "toc_position": {},
   "toc_section_display": true,
   "toc_window_display": false
  }
 },
 "nbformat": 4,
 "nbformat_minor": 2
}
